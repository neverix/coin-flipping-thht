{
 "cells": [
  {
   "cell_type": "code",
   "execution_count": 8,
   "metadata": {},
   "outputs": [
    {
     "name": "stdout",
     "output_type": "stream",
     "text": [
      "\\frac{\\left(\\frac{\\left(\\left(\\left(- 0.5 \\left(\\left(0.25 e^{3 i w} - 0.5 e^{2 i w} + 0.25 e^{i w} + 1\\right) e^{i w}\\right)^{0.5} + \\left(0.25 e^{i w} + 0.25\\right) e^{i w}\\right)^{t} \\left(0.5 \\left(\\left(0.25 e^{3 i w} - 0.5 e^{2 i w} + 0.25 e^{i w} + 1\\right) e^{i w}\\right)^{0.5} - 0.25 e^{2 i w} + 0.25 e^{i w}\\right) + \\left(0.5 \\left(\\left(0.25 e^{3 i w} - 0.5 e^{2 i w} + 0.25 e^{i w} + 1\\right) e^{i w}\\right)^{0.5} + \\left(0.25 e^{i w} + 0.25\\right) e^{i w}\\right)^{t} \\left(0.5 \\left(\\left(0.25 e^{3 i w} - 0.5 e^{2 i w} + 0.25 e^{i w} + 1\\right) e^{i w}\\right)^{0.5} + 0.25 e^{2 i w} - 0.25 e^{i w}\\right)\\right) \\cos{\\left(w \\right)} - 0.5 \\left(- 0.5 \\left(\\left(0.25 e^{3 i w} - 0.5 e^{2 i w} + 0.25 e^{i w} + 1\\right) e^{i w}\\right)^{0.5} + \\left(0.25 e^{i w} + 0.25\\right) e^{i w}\\right)^{t} + 0.5 \\left(0.5 \\left(\\left(0.25 e^{3 i w} - 0.5 e^{2 i w} + 0.25 e^{i w} + 1\\right) e^{i w}\\right)^{0.5} + \\left(0.25 e^{i w} + 0.25\\right) e^{i w}\\right)^{t}\\right) e^{- i t w}}{\\left(\\left(0.25 e^{3 i w} - 0.5 e^{2 i w} + 0.25 e^{i w} + 1\\right) e^{i w}\\right)^{0.5}} + \\frac{\\left(0.25 \\left(- 0.5 \\left(\\left(0.25 e^{3 i w} - 0.5 e^{2 i w} + 0.25 e^{i w} + 1\\right) e^{i w}\\right)^{0.5} + \\left(0.25 e^{i w} + 0.25\\right) e^{i w}\\right)^{t} \\left(\\left(\\left(e^{3 i w} - 2.0 e^{2 i w} + e^{i w} + 4.0\\right) e^{i w}\\right)^{0.5} + e^{2 i w} - e^{i w}\\right) + 0.25 \\left(0.5 \\left(\\left(0.25 e^{3 i w} - 0.5 e^{2 i w} + 0.25 e^{i w} + 1\\right) e^{i w}\\right)^{0.5} + \\left(0.25 e^{i w} + 0.25\\right) e^{i w}\\right)^{t} \\left(\\left(\\left(e^{3 i w} - 2.0 e^{2 i w} + e^{i w} + 4.0\\right) e^{i w}\\right)^{0.5} - e^{2 i w} + e^{i w}\\right) + \\left(- 0.5 \\left(- 0.5 \\left(\\left(0.25 e^{3 i w} - 0.5 e^{2 i w} + 0.25 e^{i w} + 1\\right) e^{i w}\\right)^{0.5} + \\left(0.25 e^{i w} + 0.25\\right) e^{i w}\\right)^{t} \\left(0.5 \\left(\\left(0.25 e^{3 i w} - 0.5 e^{2 i w} + 0.25 e^{i w} + 1\\right) e^{i w}\\right)^{0.5} - 0.25 e^{2 i w} + 0.25 e^{i w}\\right) \\left(\\left(\\left(e^{3 i w} - 2.0 e^{2 i w} + e^{i w} + 4.0\\right) e^{i w}\\right)^{0.5} + e^{2 i w} - e^{i w}\\right) + 0.5 \\left(0.5 \\left(\\left(0.25 e^{3 i w} - 0.5 e^{2 i w} + 0.25 e^{i w} + 1\\right) e^{i w}\\right)^{0.5} + \\left(0.25 e^{i w} + 0.25\\right) e^{i w}\\right)^{t} \\left(0.5 \\left(\\left(0.25 e^{3 i w} - 0.5 e^{2 i w} + 0.25 e^{i w} + 1\\right) e^{i w}\\right)^{0.5} + 0.25 e^{2 i w} - 0.25 e^{i w}\\right) \\left(\\left(\\left(e^{3 i w} - 2.0 e^{2 i w} + e^{i w} + 4.0\\right) e^{i w}\\right)^{0.5} - e^{2 i w} + e^{i w}\\right)\\right) \\cos{\\left(w \\right)}\\right) e^{- i t w}}{\\left(\\left(0.25 e^{3 i w} - 0.5 e^{2 i w} + 0.25 e^{i w} + 1\\right) e^{i w}\\right)^{0.5}}\\right) e^{1.0 i k w}}{2}\n",
      "((((-0.5*((0.25*exp(3*I*w) - 0.5*exp(2*I*w) + 0.25*exp(I*w) + 1)*exp(I*w))**0.5 + (0.25*exp(I*w) + 0.25)*exp(I*w))**t*(0.5*((0.25*exp(3*I*w) - 0.5*exp(2*I*w) + 0.25*exp(I*w) + 1)*exp(I*w))**0.5 - 0.25*exp(2*I*w) + 0.25*exp(I*w)) + (0.5*((0.25*exp(3*I*w) - 0.5*exp(2*I*w) + 0.25*exp(I*w) + 1)*exp(I*w))**0.5 + (0.25*exp(I*w) + 0.25)*exp(I*w))**t*(0.5*((0.25*exp(3*I*w) - 0.5*exp(2*I*w) + 0.25*exp(I*w) + 1)*exp(I*w))**0.5 + 0.25*exp(2*I*w) - 0.25*exp(I*w)))*cos(w) - 0.5*(-0.5*((0.25*exp(3*I*w) - 0.5*exp(2*I*w) + 0.25*exp(I*w) + 1)*exp(I*w))**0.5 + (0.25*exp(I*w) + 0.25)*exp(I*w))**t + 0.5*(0.5*((0.25*exp(3*I*w) - 0.5*exp(2*I*w) + 0.25*exp(I*w) + 1)*exp(I*w))**0.5 + (0.25*exp(I*w) + 0.25)*exp(I*w))**t)*exp(-I*t*w)/((0.25*exp(3*I*w) - 0.5*exp(2*I*w) + 0.25*exp(I*w) + 1)*exp(I*w))**0.5 + (0.25*(-0.5*((0.25*exp(3*I*w) - 0.5*exp(2*I*w) + 0.25*exp(I*w) + 1)*exp(I*w))**0.5 + (0.25*exp(I*w) + 0.25)*exp(I*w))**t*(((exp(3*I*w) - 2.0*exp(2*I*w) + exp(I*w) + 4.0)*exp(I*w))**0.5 + exp(2*I*w) - exp(I*w)) + 0.25*(0.5*((0.25*exp(3*I*w) - 0.5*exp(2*I*w) + 0.25*exp(I*w) + 1)*exp(I*w))**0.5 + (0.25*exp(I*w) + 0.25)*exp(I*w))**t*(((exp(3*I*w) - 2.0*exp(2*I*w) + exp(I*w) + 4.0)*exp(I*w))**0.5 - exp(2*I*w) + exp(I*w)) + (-0.5*(-0.5*((0.25*exp(3*I*w) - 0.5*exp(2*I*w) + 0.25*exp(I*w) + 1)*exp(I*w))**0.5 + (0.25*exp(I*w) + 0.25)*exp(I*w))**t*(0.5*((0.25*exp(3*I*w) - 0.5*exp(2*I*w) + 0.25*exp(I*w) + 1)*exp(I*w))**0.5 - 0.25*exp(2*I*w) + 0.25*exp(I*w))*(((exp(3*I*w) - 2.0*exp(2*I*w) + exp(I*w) + 4.0)*exp(I*w))**0.5 + exp(2*I*w) - exp(I*w)) + 0.5*(0.5*((0.25*exp(3*I*w) - 0.5*exp(2*I*w) + 0.25*exp(I*w) + 1)*exp(I*w))**0.5 + (0.25*exp(I*w) + 0.25)*exp(I*w))**t*(0.5*((0.25*exp(3*I*w) - 0.5*exp(2*I*w) + 0.25*exp(I*w) + 1)*exp(I*w))**0.5 + 0.25*exp(2*I*w) - 0.25*exp(I*w))*(((exp(3*I*w) - 2.0*exp(2*I*w) + exp(I*w) + 4.0)*exp(I*w))**0.5 - exp(2*I*w) + exp(I*w)))*cos(w))*exp(-I*t*w)/((0.25*exp(3*I*w) - 0.5*exp(2*I*w) + 0.25*exp(I*w) + 1)*exp(I*w))**0.5)*exp(1.0*I*k*w)/2\n"
     ]
    }
   ],
   "source": [
    "import sympy as sp\n",
    "ex = sp.sympify(open(\"under_integral.txt\").read())\n",
    "with open('solution.png', 'wb') as outputfile:\n",
    "    sp.preview(ex, viewer='BytesIO', outputbuffer=outputfile)\n",
    "sp.print_latex(ex)\n",
    "print(ex)"
   ]
  }
 ],
 "metadata": {
  "kernelspec": {
   "display_name": "Python 3",
   "language": "python",
   "name": "python3"
  },
  "language_info": {
   "codemirror_mode": {
    "name": "ipython",
    "version": 3
   },
   "file_extension": ".py",
   "mimetype": "text/x-python",
   "name": "python",
   "nbconvert_exporter": "python",
   "pygments_lexer": "ipython3",
   "version": "3.11.8"
  }
 },
 "nbformat": 4,
 "nbformat_minor": 2
}
