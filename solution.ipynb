{
 "cells": [
  {
   "cell_type": "code",
   "execution_count": null,
   "metadata": {},
   "outputs": [],
   "source": [
    "using LoopVectorization\n",
    "using Plots\n",
    "\n",
    "function myConv(x, y)\n",
    "    z = zeros(typeof(x[1]), length(x) + length(y) - 1)\n",
    "    @turbo for i = 1:length(x)\n",
    "        for j = 1:length(y)\n",
    "            z[i+j-1] += x[i] * y[j]\n",
    "        end\n",
    "    end\n",
    "    return z\n",
    "end"
   ]
  },
  {
   "cell_type": "code",
   "execution_count": null,
   "metadata": {},
   "outputs": [],
   "source": [
    "t, h = [0, 2, 0], [1, 0, 1];\n",
    "t, h = BigInt.(t), BigInt.(h);\n",
    "for i = 3:100\n",
    "    t, h = myConv(t + h, [0, 1, 0]), myConv(t, [0, 0, 1]) + myConv(h, [1, 0, 0])\n",
    "end\n",
    "a = t + h;\n",
    "total = BigInt(2)^100\n",
    "display(plot(-99:1:99, a / total, xlim=(-50, 50)))\n",
    "sum(a[1:end÷2] / total), a[end÷2+1] / total, sum(a[end÷2+2:end] / total)"
   ]
  },
  {
   "cell_type": "code",
   "execution_count": null,
   "metadata": {},
   "outputs": [],
   "source": [
    "function myDTFT(x, n=256)\n",
    "    coords = range(0, 2π, length=n + 1)[1:end-1]\n",
    "    exp.(-1im * coords .* (-length(x)÷2:length(x)÷2)') * x / 2\n",
    "end\n",
    "\n",
    "function myIDTFT(z)\n",
    "    coords = range(0, 2π, length=length(z) + 1)[1:end-1]\n",
    "    i = -length(z)÷2:length(z)÷2\n",
    "    exp.(1im * i .* coords') * z / length(z) * 2\n",
    "end\n",
    "\n",
    "t, h = [0, 2, 0], [1, 0, 1];\n",
    "dt, dh = myDTFT(t) / 2, myDTFT(h) / 2\n",
    "dk1, dk2 = myDTFT([0, 0, 1]), myDTFT([1, 0, 0])\n",
    "for i = 3:7\n",
    "    dt, dh = (dt + dh) / 2, dt .* dk1 + dh .* dk2\n",
    "end\n",
    "r = real(myIDTFT((dt .+ dh) / 2))\n",
    "display(plot(r))\n",
    "r[end÷2+1]"
   ]
  },
  {
   "cell_type": "code",
   "execution_count": null,
   "metadata": {},
   "outputs": [],
   "source": [
    "using Einsum\n",
    "coords = range(0, 2π, length=256 + 1)[1:end-1]\n",
    "x = cat(ones(size(coords)), cos.(coords); dims=2) / 2\n",
    "k1, k2 = exp.(-coords * im) / 2, exp.(coords * im) / 2\n",
    "mat = reshape(cat(fill(1 / 2, size(k1)), fill(1 / 2, size(k2)), k1, k2; dims=2), (length(k1), 2, 2))\n",
    "for i = 3:100\n",
    "    @einsum u[i, j] := mat[i, r, j] * x[i, r]\n",
    "    x = u\n",
    "end\n",
    "r = real(myIDTFT(x * ones(2) / 2))\n",
    "display(plot(r))\n",
    "r[end÷2+1]"
   ]
  },
  {
   "cell_type": "code",
   "execution_count": null,
   "metadata": {},
   "outputs": [],
   "source": [
    "# using Symbolics, Polynomials\n",
    "# using Groebner\n",
    "\n",
    "# sqrtrule2 = @rule sqrt(~x)^2 => ~x\n",
    "# sqrtrule4 = @rule sqrt(~x)^4 => ~x^2\n",
    "# chain = Rewriters.Chain([sqrtrule2, sqrtrule4])\n",
    "# rewriter = Rewriters.Prewalk(chain)\n",
    "\n",
    "# # @variables w, λ\n",
    "# coords = range(0, 2π, length=256 + 1)[1:end-1]\n",
    "# x = cat(ones(size(w)), cos.(w); dims=1) / 2\n",
    "# k1, k2 = exp.(-w * im) / 2, exp.(w * im) / 2\n",
    "# mat = reshape(cat(fill(1 / 2 + 0im, size(k1)), fill(1 / 2 + 0im, size(k2)), k1, k2; dims=2), (2, 2)) * 2\n",
    "# # poly = (mat[1, 1] - λ) * (mat[2, 2] - λ) - mat[1, 2] * mat[2, 1]\n",
    "# # expand(poly).coeffs\n",
    "# HH, i = mat, 1\n",
    "# Hii = HH[i, i]\n",
    "# Hi1i1 = HH[i+1, i+1]\n",
    "# d = Hii * Hi1i1 - HH[i, i+1] * HH[i+1, i]\n",
    "# t = Hii + Hi1i1\n",
    "# x = 0.5 * t\n",
    "# # y = complex(x * x - d)^(0.5)\n",
    "# # x^2 - d = −0.25sin^2(w)+0.25(1.0+cos(w))^2+(sin(−w)−sin(w)+0.5sin(w)(1.0+cos(w)))i\n"
   ]
  },
  {
   "cell_type": "code",
   "execution_count": 16,
   "metadata": {},
   "outputs": [],
   "source": [
    "using SymPy\n",
    "\n",
    "@syms w, λ\n",
    "coords = range(0, 2π, length=256 + 1)[1:end-1]\n",
    "x = cat(ones(size(w)), cos.(w); dims=1) / 2\n",
    "k1, k2 = exp.(-w * im) / 2, exp.(w * im) / 2\n",
    "mat = reshape(cat(fill(1 / 2 + 0im, size(k1)), fill(1 / 2 + 0im, size(k2)), k1, k2; dims=2), (2, 2))\n",
    "P, D = mat.diagonalize()\n",
    "values = sum(P * (D^98) * P^-1 * x)\n",
    "dtft_under_integral = values * exp(-w * im) / 2π\n",
    "solution = integrate(dtft_under_integral, (w, 0, 2π))\n",
    "solution"
   ]
  }
 ],
 "metadata": {
  "kernelspec": {
   "display_name": "Julia 1.10.1",
   "language": "julia",
   "name": "julia-1.10"
  },
  "language_info": {
   "file_extension": ".jl",
   "mimetype": "application/julia",
   "name": "julia",
   "version": "1.10.1"
  }
 },
 "nbformat": 4,
 "nbformat_minor": 2
}
